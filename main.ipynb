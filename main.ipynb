{
 "cells": [
  {
   "metadata": {},
   "cell_type": "markdown",
   "source": "# Классический сценарий",
   "id": "fc9198699832f46f"
  },
  {
   "metadata": {
    "ExecuteTime": {
     "end_time": "2025-04-22T14:02:29.212305Z",
     "start_time": "2025-04-22T14:02:29.181054Z"
    }
   },
   "cell_type": "code",
   "source": [
    "from config import ID\n",
    "from data_extraction import fast_get_friends_and_friends, get_friends_and_friends, get_user_data, simple_export, simple_import"
   ],
   "id": "9e354a2e21296cec",
   "outputs": [],
   "execution_count": 1
  },
  {
   "metadata": {},
   "cell_type": "markdown",
   "source": "Только друзья и все связи",
   "id": "7d318099ab2fdbf"
  },
  {
   "metadata": {
    "collapsed": true
   },
   "cell_type": "code",
   "source": [
    "user = get_user_data(ID)\n",
    "friends, relations = get_friends_and_friends(user.id)"
   ],
   "id": "initial_id",
   "outputs": [],
   "execution_count": null
  },
  {
   "metadata": {},
   "cell_type": "markdown",
   "source": "Ускоренное получение",
   "id": "4267b8750a88200c"
  },
  {
   "metadata": {
    "ExecuteTime": {
     "end_time": "2025-04-22T14:02:55.133442Z",
     "start_time": "2025-04-22T14:02:42.975103Z"
    }
   },
   "cell_type": "code",
   "source": "friends, relations = fast_get_friends_and_friends(ID)",
   "id": "e8291be519a2ae5a",
   "outputs": [
    {
     "name": "stdout",
     "output_type": "stream",
     "text": [
      "0.31415891647338867\n",
      "2.768097162246704\n",
      "1.833571434020996\n",
      "3.9918406009674072\n",
      "1.4320604801177979\n",
      "1.661722183227539\n"
     ]
    }
   ],
   "execution_count": 3
  },
  {
   "metadata": {},
   "cell_type": "markdown",
   "source": "Экспорт и импорт",
   "id": "86ed8c77dcd34c6b"
  },
  {
   "metadata": {},
   "cell_type": "code",
   "source": "friends, relations = simple_import(ID)",
   "id": "ececbac42b718ded",
   "outputs": [],
   "execution_count": null
  },
  {
   "metadata": {},
   "cell_type": "markdown",
   "source": "# Проверка получения данных",
   "id": "e7a2a162211faa49"
  },
  {
   "metadata": {},
   "cell_type": "code",
   "source": [
    "print(friends)\n",
    "print(relations)"
   ],
   "id": "adf0d5cd7fb5cdf3",
   "outputs": [],
   "execution_count": null
  },
  {
   "metadata": {
    "ExecuteTime": {
     "end_time": "2025-04-22T14:00:38.376349Z",
     "start_time": "2025-04-22T14:00:38.360715Z"
    }
   },
   "cell_type": "code",
   "source": [
    "print(len(friends))\n",
    "print(len(relations))"
   ],
   "id": "701434964b62c328",
   "outputs": [
    {
     "name": "stdout",
     "output_type": "stream",
     "text": [
      "110\n",
      "504\n"
     ]
    }
   ],
   "execution_count": 3
  },
  {
   "metadata": {},
   "cell_type": "markdown",
   "source": [
    "# Визуализация Gephi\n",
    "Перед началом:\n",
    "- открыть Gephi\n",
    "- запустить Master Service во вкладке Stream"
   ],
   "id": "8af122bd27f24dbb"
  },
  {
   "metadata": {},
   "cell_type": "code",
   "source": [
    "from gephi_visualize import create_gephi_graph\n",
    "\n",
    "create_gephi_graph([friend.id for friend in friends], list(relations))"
   ],
   "id": "6a5e5cd78212a90f",
   "outputs": [],
   "execution_count": null
  }
 ],
 "metadata": {
  "kernelspec": {
   "display_name": "Python 3",
   "language": "python",
   "name": "python3"
  },
  "language_info": {
   "codemirror_mode": {
    "name": "ipython",
    "version": 2
   },
   "file_extension": ".py",
   "mimetype": "text/x-python",
   "name": "python",
   "nbconvert_exporter": "python",
   "pygments_lexer": "ipython2",
   "version": "2.7.6"
  }
 },
 "nbformat": 4,
 "nbformat_minor": 5
}
