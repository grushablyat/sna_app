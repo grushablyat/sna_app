{
 "cells": [
  {
   "metadata": {},
   "cell_type": "markdown",
   "source": [
    "# Классический сценарий\n",
    "Только друзья и все связи"
   ],
   "id": "7d318099ab2fdbf"
  },
  {
   "cell_type": "code",
   "id": "9e354a2e21296cec",
   "metadata": {},
   "source": "from config import ID",
   "outputs": [],
   "execution_count": null
  },
  {
   "metadata": {
    "collapsed": true
   },
   "cell_type": "code",
   "outputs": [],
   "execution_count": null,
   "source": [
    "from data_extraction import get_user_data, get_friends_and_friends\n",
    "\n",
    "user = get_user_data(ID)\n",
    "friends, relations = get_friends_and_friends(user.id)"
   ],
   "id": "initial_id"
  },
  {
   "metadata": {},
   "cell_type": "markdown",
   "source": "Ускоренное получение",
   "id": "4267b8750a88200c"
  },
  {
   "metadata": {},
   "cell_type": "code",
   "outputs": [],
   "execution_count": null,
   "source": [
    "from data_extraction import fast_get_friends_and_friends\n",
    "\n",
    "friends, relations = fast_get_friends_and_friends(ID)"
   ],
   "id": "e8291be519a2ae5a"
  },
  {
   "metadata": {},
   "cell_type": "markdown",
   "source": "# Экспорт и импорт",
   "id": "86ed8c77dcd34c6b"
  },
  {
   "metadata": {},
   "cell_type": "code",
   "source": [
    "from data_extraction import simple_import\n",
    "\n",
    "friends, relations = simple_import(ID)"
   ],
   "id": "ececbac42b718ded",
   "outputs": [],
   "execution_count": null
  },
  {
   "metadata": {},
   "cell_type": "markdown",
   "source": "# Проверка получения данных",
   "id": "e7a2a162211faa49"
  },
  {
   "metadata": {},
   "cell_type": "code",
   "source": [
    "print(friends)\n",
    "print(relations)"
   ],
   "id": "adf0d5cd7fb5cdf3",
   "outputs": [],
   "execution_count": null
  },
  {
   "metadata": {},
   "cell_type": "code",
   "source": [
    "print(len(friends))\n",
    "print(len(relations))"
   ],
   "id": "701434964b62c328",
   "outputs": [],
   "execution_count": null
  },
  {
   "metadata": {},
   "cell_type": "markdown",
   "source": [
    "# Визуализация Gephi\n",
    "Перед началом требуется открыть Gephi и запустить Master Service во вкладке Stream"
   ],
   "id": "8af122bd27f24dbb"
  },
  {
   "metadata": {},
   "cell_type": "code",
   "source": [
    "from gephi_visualize import create_gephi_graph\n",
    "\n",
    "create_gephi_graph([friend.id for friend in friends], list(relations))"
   ],
   "id": "6a5e5cd78212a90f",
   "outputs": [],
   "execution_count": null
  }
 ],
 "metadata": {
  "kernelspec": {
   "display_name": "Python 3",
   "language": "python",
   "name": "python3"
  },
  "language_info": {
   "codemirror_mode": {
    "name": "ipython",
    "version": 2
   },
   "file_extension": ".py",
   "mimetype": "text/x-python",
   "name": "python",
   "nbconvert_exporter": "python",
   "pygments_lexer": "ipython2",
   "version": "2.7.6"
  }
 },
 "nbformat": 4,
 "nbformat_minor": 5
}
