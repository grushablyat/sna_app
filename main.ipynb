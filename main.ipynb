{
 "cells": [
  {
   "metadata": {},
   "cell_type": "markdown",
   "source": "# Классический сценарий",
   "id": "fc9198699832f46f"
  },
  {
   "metadata": {
    "ExecuteTime": {
     "end_time": "2025-04-23T09:54:12.414712Z",
     "start_time": "2025-04-23T09:54:12.258464Z"
    }
   },
   "cell_type": "code",
   "source": [
    "from config import ID\n",
    "from data_extraction import fast_get_friends_and_friends, get_friends_and_friends, get_user_data, simple_import\n",
    "from testim_smth.gephi_streamer_visualize import create_gephi_graph"
   ],
   "id": "9e354a2e21296cec",
   "outputs": [],
   "execution_count": 1
  },
  {
   "metadata": {},
   "cell_type": "markdown",
   "source": "Только друзья и все связи",
   "id": "7d318099ab2fdbf"
  },
  {
   "metadata": {
    "collapsed": true
   },
   "cell_type": "code",
   "source": [
    "user = get_user_data(ID)\n",
    "friends, relations = get_friends_and_friends(user.id)"
   ],
   "id": "initial_id",
   "outputs": [],
   "execution_count": null
  },
  {
   "metadata": {},
   "cell_type": "markdown",
   "source": "Ускоренное получение",
   "id": "4267b8750a88200c"
  },
  {
   "metadata": {
    "ExecuteTime": {
     "end_time": "2025-04-23T09:54:23.287259Z",
     "start_time": "2025-04-23T09:54:12.430340Z"
    }
   },
   "cell_type": "code",
   "source": "friends, relations = fast_get_friends_and_friends(ID)",
   "id": "e8291be519a2ae5a",
   "outputs": [],
   "execution_count": 2
  },
  {
   "metadata": {},
   "cell_type": "markdown",
   "source": "Экспорт и импорт",
   "id": "86ed8c77dcd34c6b"
  },
  {
   "metadata": {},
   "cell_type": "code",
   "source": "friends, relations = simple_import(ID)",
   "id": "ececbac42b718ded",
   "outputs": [],
   "execution_count": null
  },
  {
   "metadata": {},
   "cell_type": "markdown",
   "source": "# Проверка получения данных",
   "id": "e7a2a162211faa49"
  },
  {
   "metadata": {},
   "cell_type": "code",
   "source": [
    "print(friends)\n",
    "print(relations)"
   ],
   "id": "adf0d5cd7fb5cdf3",
   "outputs": [],
   "execution_count": null
  },
  {
   "metadata": {
    "ExecuteTime": {
     "end_time": "2025-04-23T09:13:48.490416Z",
     "start_time": "2025-04-23T09:13:48.474792Z"
    }
   },
   "cell_type": "code",
   "source": [
    "print(len(friends))\n",
    "print(len(relations))"
   ],
   "id": "701434964b62c328",
   "outputs": [
    {
     "name": "stdout",
     "output_type": "stream",
     "text": [
      "110\n",
      "504\n"
     ]
    }
   ],
   "execution_count": 3
  },
  {
   "metadata": {},
   "cell_type": "markdown",
   "source": [
    "# Визуализация Gephi\n",
    "Перед началом:\n",
    "- открыть Gephi\n",
    "- запустить Master Service во вкладке Stream"
   ],
   "id": "8af122bd27f24dbb"
  },
  {
   "metadata": {
    "ExecuteTime": {
     "end_time": "2025-04-23T09:54:24.266497Z",
     "start_time": "2025-04-23T09:54:23.592289Z"
    }
   },
   "cell_type": "code",
   "source": "create_gephi_graph([friend.id for friend in friends], list(relations))",
   "id": "6a5e5cd78212a90f",
   "outputs": [],
   "execution_count": 3
  }
 ],
 "metadata": {
  "kernelspec": {
   "display_name": "Python 3",
   "language": "python",
   "name": "python3"
  },
  "language_info": {
   "codemirror_mode": {
    "name": "ipython",
    "version": 2
   },
   "file_extension": ".py",
   "mimetype": "text/x-python",
   "name": "python",
   "nbconvert_exporter": "python",
   "pygments_lexer": "ipython2",
   "version": "2.7.6"
  }
 },
 "nbformat": 4,
 "nbformat_minor": 5
}
