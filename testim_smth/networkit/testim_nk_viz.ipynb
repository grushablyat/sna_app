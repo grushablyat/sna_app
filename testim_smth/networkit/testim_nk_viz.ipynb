{
 "cells": [
  {
   "metadata": {
    "collapsed": true
   },
   "cell_type": "code",
   "source": [
    "from data_extraction import simple_import\n",
    "from testim_smth.networkit.testim_networkit import *\n",
    "\n",
    "id = 344920719\n",
    "\n",
    "friends, relations = simple_import(id)\n",
    "\n",
    "G = create_social_graph(friends, relations)\n",
    "print(G)\n",
    "\n",
    "linked_components(G)\n",
    "detect_communities(G)\n",
    "user_summary(G, id)\n",
    "\n",
    "visualize(G)"
   ],
   "id": "initial_id",
   "outputs": [],
   "execution_count": null
  },
  {
   "metadata": {},
   "cell_type": "code",
   "source": [
    "import networkit as nk\n",
    "from networkit import vizbridges\n",
    "\n",
    "from data_extraction import simple_import\n",
    "\n",
    "\n",
    "# Read graph\n",
    "\n",
    "id = 344920719\n",
    "friends, relations = simple_import(id)\n",
    "G = create_social_graph(friends, relations)\n",
    "\n",
    "# Initalize and run Betweenness algorithm\n",
    "btwn = nk.centrality.Betweenness(G)\n",
    "btwn.run()\n",
    "\n",
    "# Visualize the karate graph with Betweenness scores\n",
    "nk.vizbridges.widgetFromGraph(G, nodeScores = btwn.scores())"
   ],
   "id": "4cd58c99dac9b791",
   "outputs": [],
   "execution_count": null
  },
  {
   "metadata": {},
   "cell_type": "code",
   "source": [
    "\n",
    "\n",
    "from data_extraction import simple_import\n",
    "from testim_smth.networkit.testim_networkit import *\n",
    "\n",
    "\n",
    "# Read graph\n",
    "\n",
    "id = 344920719\n",
    "id = 303071706\n",
    "friends, relations = simple_import(id)\n",
    "G = create_social_graph(friends, relations)\n",
    "\n",
    "# Initalize and run Betweenness algorithm\n",
    "btwn = nk.centrality.Betweenness(G)\n",
    "btwn.run()\n",
    "\n",
    "# Visualize the karate graph with Betweenness scores\n",
    "nk.vizbridges.widgetFromGraph(G, dimension = nk.vizbridges.Dimension.Three, nodeScores = btwn.scores())"
   ],
   "id": "eaed3e73d9d2764f",
   "outputs": [],
   "execution_count": null
  }
 ],
 "metadata": {
  "kernelspec": {
   "display_name": "Python 3",
   "language": "python",
   "name": "python3"
  },
  "language_info": {
   "codemirror_mode": {
    "name": "ipython",
    "version": 2
   },
   "file_extension": ".py",
   "mimetype": "text/x-python",
   "name": "python",
   "nbconvert_exporter": "python",
   "pygments_lexer": "ipython2",
   "version": "2.7.6"
  }
 },
 "nbformat": 4,
 "nbformat_minor": 5
}
